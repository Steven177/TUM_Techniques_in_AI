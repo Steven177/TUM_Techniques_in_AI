{
 "cells": [
  {
   "cell_type": "markdown",
   "metadata": {},
   "source": [
    "# Programming Exercise 2: Constraint Satisfaction Problem"
   ]
  },
  {
   "cell_type": "markdown",
   "metadata": {},
   "source": [
    "Welcome Party\n",
    "\n",
    "The student union is planning to hold a welcome party for the new students. 8 Students (Abigail, Brian,\n",
    "Caroline, Daniel, Edith, Frank, Grace, Harold) volunteer to perform in several shows. The following four\n",
    "types of shows are allowed to be performed on the party. (Each type of show is performed no more than\n",
    "once): Singing (costume for each student costs 50), Dancing (costume for each student costs 80), Comedy, Piano performance (costume for each student costs 100)\n",
    "\n",
    "Consider the following constraints:\n",
    "\n",
    "1. Everyone should participate in exactly one show\n",
    "2. No one performs alone\n",
    "3. Every type of show is performed (each show must be performed at least by one student)\n",
    "4. Total budget is less than or equal to 400\n",
    "5. Singing requires at least 3 students if it is performed\n",
    "6. Dancing requires a maximum of 2 students if it is performed\n",
    "7. Comedy requires 2 or 3 students if performed\n",
    "8. Piano is played by a single student if it is performed\n",
    "9. Piano is played by two student if it is performed\n",
    "10. Abigail performs together with Harold (other students could also perform with them)\n",
    "11. Frank, Grace and Harold don't perform in the same show because they don't get along (any two of\n",
    "them don't want to perform together.)\n",
    "12. Brian and Daniel don't want to dance\n",
    "13. Abigail and Caroline don't want to perform the comedy\n",
    "14. Edith and Grace want to sing (other students could also sing with them)\n",
    "15. No one plays the piano \n",
    "                                                                                         \n",
    "Model the constraint satisfaction problem in Python. For each of the following subsets of constraints,\n",
    "find the solution, if it exists:\n",
    "\n",
    "Problem 2.1: { 1-2, 5-7, 9-14 }\n",
    "Problem 2.2: { 1, 3-8, 10-12, 14 }\n",
    "Problem 2.3: {1, 3-7, 9-13 }\n",
    "Problem 2.4: { 1-3, 6-7, 11-14 }\n",
    "Problem 2.5: {1-2, 4-7, 9-14 }\n",
    "Problem 2.6: { 1-2, 4-7, 10-15 }\n",
    "Note that problems 2.3 can not be satisfied.\n",
    "\n",
    "\n",
    "                                                                                         \n",
    "Programming Framework:\n",
    "\n",
    "For this programming exercise Jupyter Notebooks will be used. The template for the exercise can be\n",
    "found in ARTEMIS. Since you have to model the constraint satisfaction problem, programming skills in\n",
    "Python lambdas, lists and dictionaries are necessary to complete this exercise. The following steps are\n",
    "required to correctly set up the environment for the programming exercise:\n",
    "1. Installation of Anaconda and Download of the AIMA python code If you do not already\n",
    "have the Jupyter Notebook environment installed on your machine, the installation is the first\n",
    "step you have to perform. We recommend to install Anaconda, since this will set up the whole\n",
    "environment for you. The template for the programming exercise is based on the code from the\n",
    "AIMAcode project. Therefore, you first have to download the code from this project before the\n",
    "template can be used. Instructions for installation of Anaconda and AIMA python code can be\n",
    "found in AIMAinstallation\n",
    "2. Pull of the template: Pull the repository with the template from ARTEMIS. To avoid issues\n",
    "with the relative file paths, we recommend to copy all files contained in the template into the\n",
    "root-directory of the AIMAcode project that you downloaded in the previous step.\n",
    "                                                                                         \n",
    "After completing the above steps, you are all set up to start with the exercise. The main function of\n",
    "the template is the Jupyter Notebook csp.ipynb, which is also the only file you have to\n",
    "work on. Your task is to model the Welcome Party problem. An example, on how to model a constraint\n",
    "satisfaction problem using the AIMAcode, is provided in the notebook. This is the same as given in\n",
    "Exercise 3.4.\n",
    "\n",
    "                                                                                         \n",
    "Submission:\n",
    "\n",
    "For submission, you have to upload the following files in ARTEMIS:\n",
    "1. Copy csp.ipynb (notebook containing your solution for modelling the Welcome\n",
    "Party problem) to the pulled repository.\n",
    "2. Add and commit the altered notebook to, and push it to ARTEMIS.\n",
    "A pass will be awarded only if:\n",
    "1. you submitted the correct file with the correct name, as shown above.\n",
    "2. you did not zip your file.\n",
    "3. you pushed your files to your ARTEMIS branch.\n",
    "4. you did not change the variable names provided by us within the template.\n",
    "5. your submitted files can be run in an Anaconda environment (Python 3.7) with the packages pro-\n",
    "vided by the requirements.txt in the aima repository, the utils.py, the search.py and the csp programming exercise.py\n",
    "provided by us within a reasonable time (under 5 minutes).\n",
    "6. the problem has been modelled correctly using the NaryCSP class from the module\n",
    "csp programming exercise.\n",
    "7. like the rest of the programming exercises, this is an individual project and work must be your\n",
    "own. (We will use a plagiarism detection tool and any copied code will annul all bonus exercises\n",
    "from both the copier and the copied person!)\n",
    "\n",
    "Submission will close on Sunday, 29.12.2020 at 23:59. Your solution will be marked by ARTEMIS.\n",
    "There will be feedback on formatting errors and rightly solved CSP. Nonetheless, it is very important to\n",
    "follow the instructions exactly!\n",
    "We offer preliminary checks of your solution and ARTEMIS will show your progress. You can submit\n",
    "your solution multiple times and get feedback for each submission. Your final submission will be checked.\n",
    "We award 1 point if all checks including plagiarism pass.\n",
    "                                                                                         \n",
    "\n",
    "\n",
    "<div class=\"alert alert-info\">\n",
    "    <h3>Please read the following important information before starting with the programming exercise: </h3>\n",
    "    <p>In order to avoid problems with the relative file path we recommend to place the provided notebook and csp_programming_exercise.py file in the rootfolder of your <b>aima repository</b>.</p> \n",
    "    <p>Do not use/install any additional packages, which are not provided in the requirements.txt of the  <b>aima repository</b>. </p>\n",
    "    <p>For modelling the constraint satisfaction problem you will have to define some variables. Do not change the names of variables that we provided you! Since we use these variables for an automatic evaluation, changing  variable names will result in failing the programming exercise. </p>\n",
    "    <p>Do not modify the example with the TWO + TWO = FOUR problem!</p>\n",
    "    <p>Do not modify the csp_programming_exercise.py!</p>\n",
    "    <p>After completing the exercise, download this jupyter notebook as *.py file (File &rarr; Download as \t&rarr; python (*.py)) </p>\n",
    "    <p>Before uploading this file together with your jupyter notebook to moodle, check if you can run <i>'python AI_Assignment2.py'</i> inside your anaconda environment in the root folder of your <b>aima repository</b>. If we are not able to run your submitted files in an environment with the packages provided by the requirements.txt of the <b>aima repository</b>, you will fail the programming exercise.</p>\n",
    "    \n",
    "</div>"
   ]
  },
  {
   "cell_type": "markdown",
   "metadata": {},
   "source": [
    "## Initialization"
   ]
  },
  {
   "cell_type": "code",
   "execution_count": 20,
   "metadata": {
    "scrolled": true
   },
   "outputs": [],
   "source": [
    "# Do not change this part.\n",
    "import sys, os\n",
    "import pathlib\n",
    "sys.path.append(pathlib.Path().absolute())\n",
    "from csp_programming_exercise import *"
   ]
  },
  {
   "cell_type": "markdown",
   "metadata": {},
   "source": [
    "## Example for Solving a Constraint Satisfaction Problem"
   ]
  },
  {
   "cell_type": "markdown",
   "metadata": {},
   "source": [
    "In this exercise we are going to construct the Welcome Party problem as a constraint satisfaction problem in Python using the csp library. The \"TWO + TWO = FOUR\" problem from the exercise (see Problem 3.4) will help us to understand how to model a constraint satisfaction problem with this library.\n"
   ]
  },
  {
   "cell_type": "markdown",
   "metadata": {},
   "source": [
    "### Constructing the Domains: TWO + TWO = FOUR"
   ]
  },
  {
   "cell_type": "markdown",
   "metadata": {},
   "source": [
    "We start with constructing the domains for our problem. As an example the domains for the TWO + TWO = FOUR- problem from the csp library are given. "
   ]
  },
  {
   "cell_type": "code",
   "execution_count": 21,
   "metadata": {},
   "outputs": [],
   "source": [
    "# Do not change this part\n",
    "# Here we form the domains for the variables: T, F, W, O, U, R, C1, C2 and C3\n",
    "# Domains are formed using key-value pairs,\n",
    "# where the key stands for the variable and the value is for the possible values\n",
    "# set(range(1, 4)) is a short way of creating an array with numbers from 1 to 4\n",
    "# set (range(1, 4)) == [1, 2, 3]\n",
    "# Tip: Remember that you can construct arrays with any variable types\n",
    "\n",
    "domains_TF = {'T': set(range(1, 10)),\n",
    "           'F': set(range(1, 10)),\n",
    "           'W': set(range(0, 10)),\n",
    "           'O': set(range(0, 10)),\n",
    "           'U': set(range(0, 10)),\n",
    "           'R': set(range(0, 10)),\n",
    "           'C1': set(range(0, 2)), \n",
    "           'C2': set(range(0, 2)), \n",
    "           'C3': set(range(0, 2))\n",
    "}"
   ]
  },
  {
   "cell_type": "markdown",
   "metadata": {},
   "source": [
    "### Constructing the Constraints: TWO + TWO = FOUR"
   ]
  },
  {
   "cell_type": "markdown",
   "metadata": {},
   "source": [
    "We continue with defining the constraints for our problem, the most important part of any constraint satisfaction prolem. Let's take a look at the constraints for our \"TWO + TWO = FOUR\" problem to give you some insight about how to construct constraints with the csp library."
   ]
  },
  {
   "cell_type": "code",
   "execution_count": 22,
   "metadata": {},
   "outputs": [],
   "source": [
    "# Do not change this part\n",
    "# Here we define our constraints\n",
    "# The constraint constructor of csp takes two arguments:\n",
    "# 1. The variables that take part in the constraint\n",
    "# 2. The constraint itself which is a function that takes the variables as arguments and returns true or false\n",
    "# all_diff and eq are functions defined in csp \n",
    "# Like their name suggest all_diff returns true if every value is different\n",
    "# and eq returns true if the two values are equal\n",
    "# Tip: Take a look at the lambda operator in python https://www.w3schools.com/python/python_lambda.asp\n",
    "\n",
    "\n",
    "constraint1_TF = Constraint(('T', 'F', 'W', 'O', 'U', 'R'), all_diff)\n",
    "constraint2_TF = Constraint(('O', 'R', 'C1'), lambda o, r, c1: o + o == r + 10 * c1)\n",
    "constraint3_TF = Constraint(('W', 'U', 'C1', 'C2'), lambda w, u, c1, c2: c1 + w + w == u + 10 * c2)\n",
    "constraint4_TF = Constraint(('T', 'O', 'C2', 'C3'), lambda t, o, c2, c3: c2 + t + t == o + 10 * c3)\n",
    "constraint5_TF = Constraint(('F', 'C3'), eq)"
   ]
  },
  {
   "cell_type": "markdown",
   "metadata": {},
   "source": [
    "### Combine the constraints and set up the TWO + TWO = FOUR Problem"
   ]
  },
  {
   "cell_type": "code",
   "execution_count": 23,
   "metadata": {},
   "outputs": [],
   "source": [
    "# Do not change this part\n",
    "# TWO + TWO = FOUR Problem\n",
    "two_four_constraints = [constraint1_TF, constraint2_TF, constraint3_TF, constraint4_TF, constraint5_TF]\n",
    "two_four = NaryCSP(domains_TF, two_four_constraints)\n"
   ]
  },
  {
   "cell_type": "markdown",
   "metadata": {},
   "source": [
    "### Solve the TWO + TWO = FOUR Problem"
   ]
  },
  {
   "cell_type": "code",
   "execution_count": 24,
   "metadata": {},
   "outputs": [
    {
     "data": {
      "text/plain": [
       "{'T': 7, 'F': 1, 'W': 6, 'O': 5, 'U': 3, 'R': 0, 'C1': 1, 'C2': 1, 'C3': 1}"
      ]
     },
     "execution_count": 24,
     "metadata": {},
     "output_type": "execute_result"
    }
   ],
   "source": [
    "# Do not change this part\n",
    "ac_search_solver(two_four)"
   ]
  },
  {
   "cell_type": "markdown",
   "metadata": {},
   "source": [
    "## Programming Exercise Welcome Party"
   ]
  },
  {
   "cell_type": "code",
   "execution_count": 44,
   "metadata": {},
   "outputs": [],
   "source": [
    "# Define your domain here\n",
    "# S = Sing, D = Dance, C = Comedy, P = Piano\n",
    "# tuple stands for students (1, 0, 0, 0, 0, 0, 0, 0) => Abigail performs \n",
    "domains = {\n",
    "    'A': ['S', 'D', 'C', 'P'],\n",
    "    'B': ['S', 'D', 'C', 'P'],\n",
    "    'C': ['S', 'D', 'C', 'P'],\n",
    "    'D': ['S', 'D', 'C', 'P'],\n",
    "    'E': ['S', 'D', 'C', 'P'],\n",
    "    'F': ['S', 'D', 'C', 'P'],\n",
    "    'G': ['S', 'D', 'C', 'P'],\n",
    "    'H': ['S', 'D', 'C', 'P']\n",
    "}"
   ]
  },
  {
   "cell_type": "markdown",
   "metadata": {},
   "source": [
    "### Constructing the Constraints: Welcome Party"
   ]
  },
  {
   "cell_type": "code",
   "execution_count": 63,
   "metadata": {},
   "outputs": [],
   "source": [
    "# con 1\n",
    "def one_show(*args):\n",
    "    if len(args) != 8:\n",
    "        return False\n",
    "    return True"
   ]
  },
  {
   "cell_type": "code",
   "execution_count": 64,
   "metadata": {},
   "outputs": [],
   "source": [
    "# con 2\n",
    "def alone(*args):\n",
    "\n",
    "    shows = [0,0,0,0]\n",
    "    for arg in args:\n",
    "        if arg == 'S':\n",
    "            shows[0] += 1\n",
    "        if arg == 'D':\n",
    "            shows[1] += 1\n",
    "        if arg == 'C':\n",
    "            shows[2] += 1\n",
    "        if arg == 'P':\n",
    "            shows[3] += 1 \n",
    "            \n",
    "    for s in shows:\n",
    "        if s == 1:\n",
    "            return False\n",
    "        \n",
    "    return True"
   ]
  },
  {
   "cell_type": "code",
   "execution_count": 65,
   "metadata": {},
   "outputs": [],
   "source": [
    "# con 3\n",
    "def every(*args):\n",
    "    sing = 0\n",
    "    dance = 0\n",
    "    comedy = 0\n",
    "    piano = 0\n",
    "    for s in args:\n",
    "        if s == 'S':\n",
    "            sing += 1\n",
    "        if s == 'D':\n",
    "            dance += 1\n",
    "        if s == 'C':\n",
    "            comedy += 1\n",
    "        if s == 'P':\n",
    "            piano += 1 \n",
    "            \n",
    "    if (sing == 0 or dance == 0 or comedy == 0 or piano == 0):\n",
    "        return False\n",
    "    else:\n",
    "        return True\n",
    "        "
   ]
  },
  {
   "cell_type": "code",
   "execution_count": 66,
   "metadata": {},
   "outputs": [],
   "source": [
    "# con 4\n",
    "def budget(*args):\n",
    "    sing = 0\n",
    "    dance = 0\n",
    "    comedy = 0\n",
    "    piano = 0\n",
    "    for s in args:\n",
    "        if s == 'S':\n",
    "            sing += 1\n",
    "        if s == 'D':\n",
    "            dance += 1\n",
    "        if s == 'C':\n",
    "            comedy += 1\n",
    "        if s == 'P':\n",
    "            piano += 1\n",
    "        \n",
    "    b = sing * 50 + dance * 80 + piano * 100\n",
    "    if b > 400:\n",
    "        return False\n",
    "    else:\n",
    "        return True"
   ]
  },
  {
   "cell_type": "code",
   "execution_count": 67,
   "metadata": {},
   "outputs": [],
   "source": [
    "# con 5\n",
    "def sing(*args):\n",
    "    sing = 0\n",
    "\n",
    "    for s in args:\n",
    "        if s == 'S':\n",
    "            sing += 1 \n",
    "            \n",
    "    if sing == 1 or sing == 2:\n",
    "        return False\n",
    "    else:\n",
    "        return True"
   ]
  },
  {
   "cell_type": "code",
   "execution_count": 68,
   "metadata": {},
   "outputs": [],
   "source": [
    "# con 6\n",
    "def dance(*args):\n",
    "    dance = 0\n",
    "\n",
    "    for s in args:\n",
    "        if s == 'D':\n",
    "            dance += 1       \n",
    "    if dance > 2:\n",
    "        return False\n",
    "    else: \n",
    "        return True"
   ]
  },
  {
   "cell_type": "code",
   "execution_count": 69,
   "metadata": {},
   "outputs": [],
   "source": [
    "# con 7\n",
    "def comedy(*args):\n",
    "    comedy = 0\n",
    "\n",
    "    for s in args:\n",
    "        if s == 'C':\n",
    "            comedy += 1\n",
    "    if comedy == 0 or comedy == 2 or comedy == 3:\n",
    "        return True\n",
    "    return False"
   ]
  },
  {
   "cell_type": "code",
   "execution_count": 70,
   "metadata": {},
   "outputs": [],
   "source": [
    "# con 8\n",
    "def piano(*args):\n",
    "    piano = 0\n",
    "    \n",
    "    for s in args:\n",
    "        if s == 'P':\n",
    "            piano += 1\n",
    "                \n",
    "    if piano == 0 or piano == 1:\n",
    "        return True\n",
    "    \n",
    "    return False"
   ]
  },
  {
   "cell_type": "code",
   "execution_count": 71,
   "metadata": {},
   "outputs": [],
   "source": [
    "# con 9\n",
    "def piano_two(*args):\n",
    "    piano = 0\n",
    "    \n",
    "    for s in args:\n",
    "        if s == 'P':\n",
    "            piano += 1\n",
    "                \n",
    "    if piano == 0 or piano == 2:\n",
    "        return True\n",
    "    \n",
    "    return False"
   ]
  },
  {
   "cell_type": "code",
   "execution_count": 72,
   "metadata": {},
   "outputs": [],
   "source": [
    "# con 10\n",
    "def abi_and_har(*args):\n",
    "    if args[0] == args[1]:\n",
    "        return True\n",
    "    return False"
   ]
  },
  {
   "cell_type": "code",
   "execution_count": 73,
   "metadata": {},
   "outputs": [],
   "source": [
    "#con 11\n",
    "def fra_gra_and_har(*args):\n",
    "    if args[0] == args[1] or args[1] == args[2] or args[0] == args[2]:\n",
    "        return False\n",
    "    return True"
   ]
  },
  {
   "cell_type": "code",
   "execution_count": 74,
   "metadata": {},
   "outputs": [],
   "source": [
    "#con 12\n",
    "def bri_and_dan(*args):\n",
    "    if args[0] == 'D' or args[1] == 'D':\n",
    "        return False\n",
    "    return True\n",
    "    "
   ]
  },
  {
   "cell_type": "code",
   "execution_count": 75,
   "metadata": {},
   "outputs": [],
   "source": [
    "# con 13\n",
    "def abi_and_car(*args):\n",
    "    if args[0] == 'C' or args[1] == 'C':\n",
    "        return False\n",
    "    return True"
   ]
  },
  {
   "cell_type": "code",
   "execution_count": 76,
   "metadata": {},
   "outputs": [],
   "source": [
    "# con 14\n",
    "def edi_and_gra(*args):\n",
    "    if args[0] == 'S' and args[1] == 'S':\n",
    "        return True\n",
    "    return False"
   ]
  },
  {
   "cell_type": "code",
   "execution_count": 77,
   "metadata": {},
   "outputs": [],
   "source": [
    "# con 15\n",
    "def no_piano(*args):\n",
    "    piano = 0\n",
    "    for s in args:\n",
    "        if s == 'P':\n",
    "            piano += 1 \n",
    "    if piano != 0:\n",
    "        return False\n",
    "    else:\n",
    "        return True"
   ]
  },
  {
   "cell_type": "code",
   "execution_count": 81,
   "metadata": {},
   "outputs": [],
   "source": [
    "#Define constraints\n",
    "\n",
    "constraint_1 = Constraint(('A','B','C','D','E','F','G','H'), lambda a,b,c,d,e,f,g,h: one_show(a,b,c,d,e,f,g,h))\n",
    "\n",
    "constraint_2 = Constraint(('A','B','C','D','E','F','G','H'), lambda a,b,c,d,e,f,g,h: alone(a,b,c,d,e,f,g,h))\n",
    "\n",
    "constraint_3 = Constraint(('A','B','C','D','E','F','G','H'), lambda a,b,c,d,e,f,g,h: every(a,b,c,d,e,f,g,h))\n",
    "\n",
    "constraint_4 = Constraint(('A','B','C','D','E','F','G','H'), lambda a,b,c,d,e,f,g,h: budget(a,b,c,d,e,f,g,h))\n",
    "\n",
    "constraint_5 = Constraint(('A','B','C','D','E','F','G','H'), lambda a,b,c,d,e,f,g,h: sing(a,b,c,d,e,f,g,h))\n",
    "\n",
    "constraint_6 = Constraint(('A','B','C','D','E','F','G','H'), lambda a,b,c,d,e,f,g,h: dance(a,b,c,d,e,f,g,h))\n",
    "\n",
    "constraint_7 = Constraint(('A','B','C','D','E','F','G','H'), lambda a,b,c,d,e,f,g,h: comedy(a,b,c,d,e,f,g,h))\n",
    "\n",
    "constraint_8 = Constraint(('A','B','C','D','E','F','G','H'), lambda a,b,c,d,e,f,g,h: piano(a,b,c,d,e,f,g,h))\n",
    "\n",
    "constraint_9 = Constraint(('A','B','C','D','E','F','G','H'), lambda a,b,c,d,e,f,g,h: piano_two(a,b,c,d,e,f,g,h))\n",
    "\n",
    "constraint_10 = Constraint(('A', 'H'), lambda a, h: abi_and_har(a,h))\n",
    "\n",
    "constraint_11 = Constraint(('F', 'G', 'H'), lambda f, g, h: fra_gra_and_har(f,g,h))\n",
    "\n",
    "constraint_12 = Constraint(('B', 'D'), lambda b, d: bri_and_dan(b,d))\n",
    "\n",
    "constraint_13 = Constraint(('A', 'C'), lambda a, c: abi_and_car(a,c))\n",
    "                          \n",
    "constraint_14 = Constraint(('E', 'G'), lambda e, g: edi_and_gra(e,g))\n",
    "\n",
    "constraint_15 = Constraint(('A','B','C','D','E','F','G','H'), lambda a,b,c,d,e,f,g,h: no_piano(a,b,c,d,e,f,g,h))"
   ]
  },
  {
   "cell_type": "markdown",
   "metadata": {},
   "source": [
    "### Combine the constraints and set up the CSPs for the different problems"
   ]
  },
  {
   "cell_type": "markdown",
   "metadata": {},
   "source": [
    "<div class=\"alert alert-info\">\n",
    "    <p>The variables csp_21, csp_22, .. are defined for setting up the CSPs for the corresponding problems. You have to use these variable names otherwise this will result in failing the programming exercise.</p> \n",
    "</div>"
   ]
  },
  {
   "cell_type": "code",
   "execution_count": 82,
   "metadata": {},
   "outputs": [],
   "source": [
    "# Combine Constraints and set up the csp for Problem 2.1\n",
    "# TODO:\n",
    "csp_21 = NaryCSP(domains, [constraint_1, constraint_2, constraint_5, constraint_6, constraint_7, constraint_9, constraint_10, constraint_11, constraint_12, constraint_13, constraint_14]) \n",
    "\n",
    "# Combine Constraints and set up the csp for Problem 2.2\n",
    "# TODO:\n",
    "csp_22 =  NaryCSP(domains, [constraint_1, constraint_3, constraint_4, constraint_5, constraint_6, constraint_7, constraint_8, constraint_10, constraint_11, constraint_12, constraint_14]) \n",
    "\n",
    "\n",
    "# Combine Constraints and set up the csp for Problem 2.3\n",
    "# TODO:\n",
    "csp_23 = NaryCSP(domains, [constraint_1, constraint_3, constraint_4, constraint_5, constraint_6, constraint_7, constraint_9, constraint_10, constraint_11, constraint_12, constraint_13]) \n",
    "\n",
    "\n",
    "# Combine Constraints and set up the csp for Problem 2.4\n",
    "# TODO:\n",
    "csp_24 = NaryCSP(domains, [constraint_1, constraint_2, constraint_3, constraint_6, constraint_7, constraint_11, constraint_12, constraint_13, constraint_14])  \n",
    "\n",
    "\n",
    "# Combine Constraints and set up the csp for Problem 2.5\n",
    "# TODO:\n",
    "csp_25 = NaryCSP(domains, [constraint_1, constraint_2, constraint_4, constraint_5, constraint_6, constraint_7, constraint_9, constraint_10, constraint_11, constraint_12, constraint_13, constraint_14])  \n",
    "\n",
    "\n",
    "# Combine Constraints and set up the csp for Problem 2.6\n",
    "# TODO:\n",
    "csp_26 = NaryCSP(domains, [constraint_1, constraint_2, constraint_4, constraint_5, constraint_6, constraint_7, constraint_10, constraint_11, constraint_12, constraint_13, constraint_14, constraint_15])"
   ]
  },
  {
   "cell_type": "markdown",
   "metadata": {},
   "source": [
    "### Solving the CSP"
   ]
  },
  {
   "cell_type": "markdown",
   "metadata": {},
   "source": [
    "<div class=\"alert alert-info\">\n",
    "    <p>Do not change the following cell. If you can't execute the following cell, you may have renamed the variables defined by us.</p> \n",
    "</div>"
   ]
  },
  {
   "cell_type": "code",
   "execution_count": 83,
   "metadata": {},
   "outputs": [
    {
     "name": "stdout",
     "output_type": "stream",
     "text": [
      "{'A': 'D', 'B': 'C', 'C': 'S', 'D': 'C', 'E': 'S', 'F': 'C', 'G': 'S', 'H': 'D'}\n",
      "{'A': 'C', 'B': 'C', 'C': 'D', 'D': 'S', 'E': 'S', 'F': 'P', 'G': 'S', 'H': 'C'}\n",
      "None\n",
      "{'A': 'D', 'B': 'C', 'C': 'D', 'D': 'P', 'E': 'S', 'F': 'C', 'G': 'S', 'H': 'P'}\n",
      "{'A': 'D', 'B': 'C', 'C': 'S', 'D': 'C', 'E': 'S', 'F': 'C', 'G': 'S', 'H': 'D'}\n",
      "{'A': 'D', 'B': 'C', 'C': 'S', 'D': 'C', 'E': 'S', 'F': 'C', 'G': 'S', 'H': 'D'}\n"
     ]
    }
   ],
   "source": [
    "print(ac_search_solver(csp_21))\n",
    "print(ac_search_solver(csp_22))\n",
    "print(ac_search_solver(csp_23))\n",
    "print(ac_search_solver(csp_24))\n",
    "print(ac_search_solver(csp_25))\n",
    "print(ac_search_solver(csp_26))"
   ]
  },
  {
   "cell_type": "code",
   "execution_count": null,
   "metadata": {},
   "outputs": [],
   "source": []
  },
  {
   "cell_type": "code",
   "execution_count": null,
   "metadata": {},
   "outputs": [],
   "source": []
  }
 ],
 "metadata": {
  "celltoolbar": "Raw Cell Format",
  "kernelspec": {
   "display_name": "Python 3",
   "language": "python",
   "name": "python3"
  },
  "language_info": {
   "codemirror_mode": {
    "name": "ipython",
    "version": 3
   },
   "file_extension": ".py",
   "mimetype": "text/x-python",
   "name": "python",
   "nbconvert_exporter": "python",
   "pygments_lexer": "ipython3",
   "version": "3.7.5"
  }
 },
 "nbformat": 4,
 "nbformat_minor": 2
}
